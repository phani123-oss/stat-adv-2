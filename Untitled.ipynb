{
 "cells": [
  {
   "cell_type": "markdown",
   "id": "5abe5ad5-2bfe-4ae5-ae55-b3a73d5f00ca",
   "metadata": {},
   "source": [
    "Q1: What are the Probability Mass Function (PMF) and Probability Density Function (PDF)? Explain with\n",
    "an example.\n",
    "\n",
    "\n",
    "Probability Mass Function\tProbability Density Function\n",
    "\n",
    "Probability mass function denotes the probability that a\n",
    "\n",
    "discrete random variable will take on a particular value.\n",
    "\n",
    "It is used for discrete random variables.\n",
    "\n",
    "Ex: Tossing a coin\n",
    "\n",
    "Probability density function gives the probability that a continuous \n",
    "\n",
    "random variable will lie between a certain specified interval.It is used for continuous random variables.\n",
    "\n",
    "It is used for continuous random variables.\n",
    "\n",
    "ex:rolling a fair die"
   ]
  },
  {
   "cell_type": "markdown",
   "id": "db7ff21d-4d66-416b-bb8d-4a60988e6e55",
   "metadata": {},
   "source": [
    "Q2: What is Cumulative Density Function (CDF)? Explain with an example. Why CDF is used?\n",
    "\n",
    "The cumulative distribution function is used to describe the probability distribution of random variables.\n",
    "\n",
    "It can be used to describe the probability for a discrete, continuous or mixed variable. It is obtained by \n",
    "\n",
    "summing up the probability density function and getting the cumulative probability for a random variable.\n",
    "\n",
    "formula:p(X<x)"
   ]
  },
  {
   "cell_type": "markdown",
   "id": "0916a9e1-99a5-4969-b50b-85e4a6bb25f0",
   "metadata": {},
   "source": [
    "Q4: Explain the importance of Normal Distribution. Give a few real-life examples of Normal\n",
    "Distribution.\n",
    "\n",
    "\n",
    "The normal distribution is the most commonly-used probability distribution in all of statistics.\n",
    "\n",
    "\n",
    "Example 1: Height of Males\n",
    "\n",
    "The distribution of the height of males in the U.S. is roughly normally distributed with a mean of 70 inches and a standard deviation of 3 inches.\n",
    "\n",
    "A histogram of the height of all U.S. male reveals a bell shape:\n",
    "\n",
    "Example 2:Blood Pressure\n",
    "\n",
    "The distribution of diastolic blood pressure for men is normally distributed with a mean of about 80 and a standard deviation of 20.\n",
    "\n",
    "A histogram of the distribution of blood pressures for all mean displays a normal distribution with a bell shape\n",
    "\n"
   ]
  },
  {
   "cell_type": "markdown",
   "id": "5231fee3-83eb-40e8-a994-366baecd74db",
   "metadata": {},
   "source": [
    "Q5: What is Bernaulli Distribution? Give an Example. What is the difference between Bernoulli\n",
    "Distribution and Binomial Distribution?\n",
    "\n",
    "Bernoulli deals with the outcome of the single trial of the event, whereas Binomial deals with the outcome of \n",
    "\n",
    "the multiple trials of the single event. Bernoulli is used when the outcome of an event is required for only one time, \n",
    "\n",
    "whereas the Binomial is used when the outcome of an event is required multiple times.\n",
    "\n",
    "Bernoulli deals with the outcome of the single trial of the event, whereas Binomial deals with the outcome of the multiple trials of the single event.\n",
    "Bernoulli is used when the outcome of an event is required for only one time, whereas the Binomial is used when the outcome of an event is required multiple times.\n",
    "\n"
   ]
  },
  {
   "cell_type": "markdown",
   "id": "3966950a-45da-4f91-88b4-320125722f3c",
   "metadata": {},
   "source": [
    "Q6. Consider a dataset with a mean of 50 and a standard deviation of 10. If we assume that the dataset\n",
    "is normally distributed, what is the probability that a randomly selected observation will be greater\n",
    "than 60? Use the appropriate formula and show your calculations.\n",
    "\n",
    "we have to find the probability greater than 60 i.e., p(X>60)\n",
    "\n",
    "mean = 50\n",
    "\n",
    "standard deviation = 10\n",
    "\n",
    "Z-table = (xi - mean)/std\n",
    "\n",
    "        = (60-50)/10\n",
    "        \n",
    "        = 10/10\n",
    "        \n",
    "        = 1\n",
    "        \n",
    "        "
   ]
  },
  {
   "cell_type": "markdown",
   "id": "3f5d6759-b1af-437c-84bf-fd6f676835f5",
   "metadata": {},
   "source": [
    "Q7: Explain uniform Distribution with an example.\n",
    "\n",
    "A continuous probability distribution is a Uniform distribution and is related to the events\n",
    "\n",
    "which are equally likely to occur. It is defined by two parameters, x and y, where\n",
    "\n",
    "x = minimum value and y = maximum value. It is generally denoted by u(x, y).\n"
   ]
  },
  {
   "cell_type": "markdown",
   "id": "25c07d83-7286-47c9-8852-253edca4d318",
   "metadata": {},
   "source": [
    "Q8: What is the z score? State the importance of the z score.\n",
    "\n",
    "Z-score is a statistical measurement that describes a value's relationship to the mean of a group of values. \n",
    "\n",
    "Z-score is measured in terms of standard deviations from the mean. If a Z-score is 0, it indicates that the \n",
    "\n",
    "data point's score is identical to the mean score. A Z-score of 1.0 would indicate a value that is one standard\n",
    "\n",
    "deviation from the mean. Z-scores may be positive or negative, \n",
    "\n",
    "with a positive value indicating the score is above the mean and a negative score indicating it is below the mean.\n",
    "\n",
    "Z-table = (xi - mean)/std\n",
    "\n",
    "A z-score is important because it tells where your data lies in the data distribution. For example, if a z-score is \n",
    "\n",
    "1.5, it is 1.5 standard deviations away from the mean. Because 68% of your data lies within one\n",
    "\n",
    "standard deviation (if it is normally distributed), 1.5 might be considered too far from average for your comfort."
   ]
  },
  {
   "cell_type": "markdown",
   "id": "63a72ad1-6a82-40d6-b6d2-fba4bb1f1a66",
   "metadata": {},
   "source": [
    "Q9: What is Central Limit Theorem? State the significance of the Central Limit Theorem.\n",
    "\n",
    "The central limit theorem (CLT) states that the distribution of sample means approximates a normal distribution as\n",
    "\n",
    "the sample size gets larger, regardless of the population's distribution.\n",
    "\n",
    "Why Is the Central Limit Theorem Useful? The central limit theorem is useful when analyzing large data sets because \n",
    "\n",
    "it allows one to assume that the sampling distribution of the mean will be normally-distributed in most cases"
   ]
  }
 ],
 "metadata": {
  "kernelspec": {
   "display_name": "Python 3 (ipykernel)",
   "language": "python",
   "name": "python3"
  },
  "language_info": {
   "codemirror_mode": {
    "name": "ipython",
    "version": 3
   },
   "file_extension": ".py",
   "mimetype": "text/x-python",
   "name": "python",
   "nbconvert_exporter": "python",
   "pygments_lexer": "ipython3",
   "version": "3.10.8"
  }
 },
 "nbformat": 4,
 "nbformat_minor": 5
}
